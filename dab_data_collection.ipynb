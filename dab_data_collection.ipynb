{
 "cells": [
  {
   "cell_type": "code",
   "execution_count": 1,
   "metadata": {},
   "outputs": [
    {
     "name": "stdout",
     "output_type": "stream",
     "text": [
      "Requirement already satisfied: scipy in /Library/Frameworks/Python.framework/Versions/3.12/lib/python3.12/site-packages (1.14.1)\n",
      "Requirement already satisfied: haversine in /Library/Frameworks/Python.framework/Versions/3.12/lib/python3.12/site-packages (2.8.1)\n",
      "Requirement already satisfied: numpy in /Library/Frameworks/Python.framework/Versions/3.12/lib/python3.12/site-packages (2.1.1)\n",
      "Requirement already satisfied: pandas in /Library/Frameworks/Python.framework/Versions/3.12/lib/python3.12/site-packages (2.2.2)\n",
      "Requirement already satisfied: python-dateutil>=2.8.2 in /Users/hayoun/Library/Python/3.12/lib/python/site-packages (from pandas) (2.9.0.post0)\n",
      "Requirement already satisfied: pytz>=2020.1 in /Library/Frameworks/Python.framework/Versions/3.12/lib/python3.12/site-packages (from pandas) (2024.2)\n",
      "Requirement already satisfied: tzdata>=2022.7 in /Library/Frameworks/Python.framework/Versions/3.12/lib/python3.12/site-packages (from pandas) (2024.1)\n",
      "Requirement already satisfied: six>=1.5 in /Users/hayoun/Library/Python/3.12/lib/python/site-packages (from python-dateutil>=2.8.2->pandas) (1.16.0)\n",
      "Note: you may need to restart the kernel to use updated packages.\n"
     ]
    }
   ],
   "source": [
    "pip install scipy haversine numpy pandas"
   ]
  },
  {
   "cell_type": "code",
   "execution_count": 1,
   "metadata": {},
   "outputs": [],
   "source": [
    "import pandas as pd\n",
    "import numpy as np\n",
    "\n",
    "# data = pd.read_csv('/Users/hayoun/Downloads/fulldata_template0918.csv')"
   ]
  },
  {
   "cell_type": "markdown",
   "metadata": {},
   "source": [
    "### 카페 개수, 쓰레기통 개수 세기 - datanew0921로 저장해둠"
   ]
  },
  {
   "cell_type": "code",
   "execution_count": 4,
   "metadata": {},
   "outputs": [
    {
     "name": "stdout",
     "output_type": "stream",
     "text": [
      "<class 'pandas.core.frame.DataFrame'>\n",
      "RangeIndex: 21325 entries, 0 to 21324\n",
      "Data columns (total 24 columns):\n",
      " #   Column                       Non-Null Count  Dtype  \n",
      "---  ------                       --------------  -----  \n",
      " 0   cafe_nm                      21325 non-null  object \n",
      " 1   address                      21325 non-null  object \n",
      " 2   Longitude                    21325 non-null  float64\n",
      " 3   Latitude                     21325 non-null  float64\n",
      " 4   법정동코드                        21325 non-null  int64  \n",
      " 5   본번                           21325 non-null  int64  \n",
      " 6   부번                           17234 non-null  float64\n",
      " 7   Unnamed: 7                   0 non-null      float64\n",
      " 8   가까운 지하철역(필요X)                0 non-null      float64\n",
      " 9   지하철역 거리                      0 non-null      float64\n",
      " 10  가까운 버스정류장(필요X)               0 non-null      float64\n",
      " 11  버스정류장 거리                     0 non-null      float64\n",
      " 12  매장크기                         0 non-null      float64\n",
      " 13  동이름(필요X)                     0 non-null      float64\n",
      " 14  유동인구수                        0 non-null      float64\n",
      " 15  근방카페개수                       0 non-null      float64\n",
      " 16  근방쓰레기통개수                     0 non-null      float64\n",
      " 17  근방공공시설수                      0 non-null      float64\n",
      " 18  매장근처주차시설수                    0 non-null      float64\n",
      " 19  매출추정(블록'19)                  0 non-null      float64\n",
      " 20 지가                          0 non-null      float64\n",
      " 21  근방 음식점 수                     0 non-null      float64\n",
      " 22  매출건수추정(행정동, 필요X)             0 non-null      float64\n",
      " 23  일회용품 소비정도 = 매출건수*근방카페개수*0.5  0 non-null      float64\n",
      "dtypes: float64(20), int64(2), object(2)\n",
      "memory usage: 3.9+ MB\n"
     ]
    }
   ],
   "source": [
    "data.info()"
   ]
  },
  {
   "cell_type": "code",
   "execution_count": 3,
   "metadata": {},
   "outputs": [
    {
     "data": {
      "text/html": [
       "<div>\n",
       "<style scoped>\n",
       "    .dataframe tbody tr th:only-of-type {\n",
       "        vertical-align: middle;\n",
       "    }\n",
       "\n",
       "    .dataframe tbody tr th {\n",
       "        vertical-align: top;\n",
       "    }\n",
       "\n",
       "    .dataframe thead th {\n",
       "        text-align: right;\n",
       "    }\n",
       "</style>\n",
       "<table border=\"1\" class=\"dataframe\">\n",
       "  <thead>\n",
       "    <tr style=\"text-align: right;\">\n",
       "      <th></th>\n",
       "      <th>cafe_nm</th>\n",
       "      <th>address</th>\n",
       "      <th>Longitude</th>\n",
       "      <th>Latitude</th>\n",
       "      <th>법정동코드</th>\n",
       "    </tr>\n",
       "  </thead>\n",
       "  <tbody>\n",
       "    <tr>\n",
       "      <th>0</th>\n",
       "      <td>카페숲</td>\n",
       "      <td>서울특별시 금천구 시흥대로40길</td>\n",
       "      <td>126.909939</td>\n",
       "      <td>37.446689</td>\n",
       "      <td>1154510300</td>\n",
       "    </tr>\n",
       "    <tr>\n",
       "      <th>1</th>\n",
       "      <td>매머드커피외대</td>\n",
       "      <td>서울특별시 동대문구 천장산로7길</td>\n",
       "      <td>127.056962</td>\n",
       "      <td>37.598493</td>\n",
       "      <td>1123011000</td>\n",
       "    </tr>\n",
       "    <tr>\n",
       "      <th>2</th>\n",
       "      <td>포르마레</td>\n",
       "      <td>서울특별시 강동구 성내로9길</td>\n",
       "      <td>127.125070</td>\n",
       "      <td>37.530474</td>\n",
       "      <td>1174010800</td>\n",
       "    </tr>\n",
       "    <tr>\n",
       "      <th>3</th>\n",
       "      <td>카페브릿지</td>\n",
       "      <td>서울특별시 영등포구 여의대로</td>\n",
       "      <td>126.929094</td>\n",
       "      <td>37.525184</td>\n",
       "      <td>1156011000</td>\n",
       "    </tr>\n",
       "    <tr>\n",
       "      <th>4</th>\n",
       "      <td>더웨이유통할리스커피</td>\n",
       "      <td>서울특별시 중구 다산로</td>\n",
       "      <td>127.010407</td>\n",
       "      <td>37.553952</td>\n",
       "      <td>1114016200</td>\n",
       "    </tr>\n",
       "  </tbody>\n",
       "</table>\n",
       "</div>"
      ],
      "text/plain": [
       "      cafe_nm            address   Longitude   Latitude       법정동코드\n",
       "0         카페숲  서울특별시 금천구 시흥대로40길  126.909939  37.446689  1154510300\n",
       "1     매머드커피외대  서울특별시 동대문구 천장산로7길  127.056962  37.598493  1123011000\n",
       "2        포르마레    서울특별시 강동구 성내로9길  127.125070  37.530474  1174010800\n",
       "3       카페브릿지    서울특별시 영등포구 여의대로  126.929094  37.525184  1156011000\n",
       "4  더웨이유통할리스커피       서울특별시 중구 다산로  127.010407  37.553952  1114016200"
      ]
     },
     "execution_count": 3,
     "metadata": {},
     "output_type": "execute_result"
    }
   ],
   "source": [
    "datanew = data.iloc[:,[0,1,2,3,4]]\n",
    "datanew.head()"
   ]
  },
  {
   "cell_type": "code",
   "execution_count": 4,
   "metadata": {},
   "outputs": [],
   "source": [
    "from scipy.spatial import KDTree\n",
    "from haversine import haversine, Unit\n",
    "\n",
    "cafe_coords = np.array(datanew[['Latitude', 'Longitude']])"
   ]
  },
  {
   "cell_type": "markdown",
   "metadata": {},
   "source": [
    "### 기본 코드"
   ]
  },
  {
   "cell_type": "code",
   "execution_count": 6,
   "metadata": {},
   "outputs": [
    {
     "name": "stdout",
     "output_type": "stream",
     "text": [
      "Collecting tqdm\n",
      "  Downloading tqdm-4.66.5-py3-none-any.whl.metadata (57 kB)\n",
      "Downloading tqdm-4.66.5-py3-none-any.whl (78 kB)\n",
      "Installing collected packages: tqdm\n",
      "Successfully installed tqdm-4.66.5\n",
      "Note: you may need to restart the kernel to use updated packages.\n"
     ]
    }
   ],
   "source": [
    "pip install tqdm"
   ]
  },
  {
   "cell_type": "code",
   "execution_count": 7,
   "metadata": {},
   "outputs": [],
   "source": [
    "from tqdm import tqdm"
   ]
  },
  {
   "cell_type": "code",
   "execution_count": 8,
   "metadata": {},
   "outputs": [
    {
     "name": "stderr",
     "output_type": "stream",
     "text": [
      "/Library/Frameworks/Python.framework/Versions/3.12/lib/python3.12/site-packages/numpy/_core/fromnumeric.py:57: FutureWarning: 'DataFrame.swapaxes' is deprecated and will be removed in a future version. Please use 'DataFrame.transpose' instead.\n",
      "  return bound(*args, **kwds)\n"
     ]
    }
   ],
   "source": [
    "# 데이터 청크로 나누기\n",
    "num_chunks = 6\n",
    "chunks = np.array_split(datanew, num_chunks)"
   ]
  },
  {
   "cell_type": "code",
   "execution_count": 11,
   "metadata": {},
   "outputs": [],
   "source": [
    "import os"
   ]
  },
  {
   "cell_type": "code",
   "execution_count": 12,
   "metadata": {},
   "outputs": [],
   "source": [
    "# 저장 경로 설정\n",
    "# save_path = '/Users/hayoun/Desktop/DAB/data/'\n",
    "\n",
    "# 각 청크를 처리한 후, 해당 청크의 결과를 지정된 경로에 CSV 파일로 저장\n",
    "def process_and_save_chunk(chunk, chunk_id, data, radius=0.3):\n",
    "    result = []\n",
    "    # tqdm을 사용하여 진행률 표시\n",
    "    for idx, row in tqdm(chunk.iterrows(), total=chunk.shape[0], desc=f\"Processing chunk {chunk_id}\"):\n",
    "        count = 0\n",
    "        cafe_location = (row['Latitude'], row['Longitude'])\n",
    "        for other_idx, other_row in data.iterrows():\n",
    "            if idx != other_idx:\n",
    "                other_location = (other_row['Latitude'], other_row['Longitude'])\n",
    "                distance = haversine(cafe_location, other_location)\n",
    "                if distance <= radius:\n",
    "                    count += 1\n",
    "        result.append(count)\n",
    "\n",
    "    # 처리된 결과를 데이터프레임으로 변환하여 저장\n",
    "    chunk['cafeinrange'] = result\n",
    "    chunk_filename = os.path.join(save_path, f'chunk_{chunk_id}_result.csv')\n",
    "    chunk.to_csv(chunk_filename, index=False)\n",
    "    print(f\"Chunk {chunk_id} saved to {chunk_filename}\")\n",
    "    return chunk_filename\n"
   ]
  },
  {
   "cell_type": "code",
   "execution_count": 13,
   "metadata": {},
   "outputs": [
    {
     "name": "stderr",
     "output_type": "stream",
     "text": [
      "Processing chunk 4: 100%|██████████| 3554/3554 [16:38<00:00,  3.56it/s]\n"
     ]
    },
    {
     "name": "stdout",
     "output_type": "stream",
     "text": [
      "Chunk 4 saved to /Users/hayoun/Desktop/DAB/data/chunk_4_result.csv\n"
     ]
    },
    {
     "name": "stderr",
     "output_type": "stream",
     "text": [
      "Processing chunk 5: 100%|██████████| 3554/3554 [16:43<00:00,  3.54it/s]\n"
     ]
    },
    {
     "name": "stdout",
     "output_type": "stream",
     "text": [
      "Chunk 5 saved to /Users/hayoun/Desktop/DAB/data/chunk_5_result.csv\n"
     ]
    },
    {
     "name": "stderr",
     "output_type": "stream",
     "text": [
      "Processing chunk 6: 100%|██████████| 3554/3554 [16:41<00:00,  3.55it/s]"
     ]
    },
    {
     "name": "stdout",
     "output_type": "stream",
     "text": [
      "Chunk 6 saved to /Users/hayoun/Desktop/DAB/data/chunk_6_result.csv\n",
      "All chunks have been processed and saved to /Users/hayoun/Desktop/DAB/data/.\n"
     ]
    },
    {
     "name": "stderr",
     "output_type": "stream",
     "text": [
      "\n"
     ]
    }
   ],
   "source": [
    "# 4번째 청크부터 처리 (index 3부터 시작)\n",
    "saved_files = []\n",
    "for i, chunk in enumerate(chunks[3:], start=4):  # 4번째 청크부터 시작\n",
    "    chunk_filename = process_and_save_chunk(chunk, i, datanew)\n",
    "    saved_files.append(chunk_filename)\n",
    "\n",
    "# 파일이 저장된 경로 확인\n",
    "print(f\"All chunks have been processed and saved to {save_path}.\")"
   ]
  },
  {
   "cell_type": "markdown",
   "metadata": {},
   "source": [
    "#### 쓰레기통 개수"
   ]
  },
  {
   "cell_type": "code",
   "execution_count": 18,
   "metadata": {},
   "outputs": [],
   "source": [
    "# 300m 반경 내 쓰레기통 개수를 계산하는 함수\n",
    "def count_trashbins_near_cafes(cafe_coords, trashbin_coords, radius=300):\n",
    "    \"\"\"\n",
    "    각 카페 근방 300m 내에 있는 쓰레기통의 개수를 계산합니다.\n",
    "    \n",
    "    Parameters:\n",
    "    cafe_coords (DataFrame): 카페 좌표 데이터프레임\n",
    "    trashbin_coords (DataFrame): 쓰레기통 좌표 데이터프레임\n",
    "    radius (float): 탐색 반경 (단위: m), 기본값 300m\n",
    "    \n",
    "    Returns:\n",
    "    list: 각 카페 근방의 쓰레기통 개수\n",
    "    \"\"\"\n",
    "    trashbin_count = []\n",
    "    \n",
    "    # 각 카페마다 300m 반경 내의 쓰레기통 개수를 계산\n",
    "    for idx, cafe_row in tqdm(cafe_coords.iterrows(), total=cafe_coords.shape[0], desc=\"Processing cafes\"):\n",
    "        cafe_location = (cafe_row['Latitude'], cafe_row['Longitude'])\n",
    "        count = 0\n",
    "        \n",
    "        # 모든 쓰레기통과의 거리를 일일이 계산\n",
    "        for _, trash_row in trashbin_coords.iterrows():\n",
    "            trash_location = (trash_row['Latitude'], trash_row['Longitude'])\n",
    "            distance = haversine(cafe_location, trash_location, unit=Unit.METERS)\n",
    "            \n",
    "            # 300m 이내의 쓰레기통만 카운트\n",
    "            if distance <= radius:\n",
    "                count += 1\n",
    "        \n",
    "        trashbin_count.append(count)\n",
    "    \n",
    "    return trashbin_count\n"
   ]
  },
  {
   "cell_type": "code",
   "execution_count": 19,
   "metadata": {},
   "outputs": [
    {
     "name": "stderr",
     "output_type": "stream",
     "text": [
      "Processing cafes: 100%|██████████| 21325/21325 [19:46<00:00, 17.97it/s]"
     ]
    },
    {
     "name": "stdout",
     "output_type": "stream",
     "text": [
      "          cafe_nm  trashbins_in_range\n",
      "0             카페숲                   0\n",
      "1         매머드커피외대                   1\n",
      "2            포르마레                   0\n",
      "3           카페브릿지                   2\n",
      "4      더웨이유통할리스커피                   7\n",
      "...           ...                 ...\n",
      "21320   빽다방빨래골입구점                   1\n",
      "21321         청23                   5\n",
      "21322        피트커피                   0\n",
      "21323    빽다방동여의도점                   4\n",
      "21324       보광동커피                   2\n",
      "\n",
      "[21325 rows x 2 columns]\n"
     ]
    },
    {
     "name": "stderr",
     "output_type": "stream",
     "text": [
      "\n",
      "/var/folders/xx/z7zmyqq92gs28yp3ngzz0z4h0000gn/T/ipykernel_2652/2009477366.py:5: SettingWithCopyWarning: \n",
      "A value is trying to be set on a copy of a slice from a DataFrame.\n",
      "Try using .loc[row_indexer,col_indexer] = value instead\n",
      "\n",
      "See the caveats in the documentation: https://pandas.pydata.org/pandas-docs/stable/user_guide/indexing.html#returning-a-view-versus-a-copy\n",
      "  datanew['trashbins_in_range'] = trashbin_count\n"
     ]
    }
   ],
   "source": [
    "# 300m 반경 내 쓰레기통 개수 계산\n",
    "trashbin_count = count_trashbins_near_cafes(datanew[['Latitude', 'Longitude']], trashbin[['Latitude', 'Longitude']], radius=300)\n",
    "\n",
    "# 결과를 데이터프레임에 추가\n",
    "datanew['trashbins_in_range'] = trashbin_count\n",
    "\n",
    "# 최종 결과 출력\n",
    "print(datanew[['cafe_nm', 'trashbins_in_range']])"
   ]
  },
  {
   "cell_type": "markdown",
   "metadata": {},
   "source": [
    "#### 합치기"
   ]
  },
  {
   "cell_type": "code",
   "execution_count": 20,
   "metadata": {},
   "outputs": [],
   "source": [
    "# 모든 청크 파일을 병합하기 위한 리스트\n",
    "chunk_files = [f'chunk_{i}_result.csv' for i in range(1, 7)]  # 6개의 청크 파일\n",
    "chunk_dfs = []\n",
    "\n",
    "# 각 청크 파일을 불러와 병합\n",
    "for chunk_file in chunk_files:\n",
    "    chunk_path = os.path.join(save_path, chunk_file)\n",
    "    \n",
    "    if os.path.exists(chunk_path):\n",
    "        chunk_df = pd.read_csv(chunk_path)\n",
    "        chunk_dfs.append(chunk_df)\n",
    "    else:\n",
    "        print(f\"File {chunk_file} not found!\")\n",
    "\n",
    "# 청크들을 하나로 병합\n",
    "merged_chunks = pd.concat(chunk_dfs, ignore_index=True)"
   ]
  },
  {
   "cell_type": "code",
   "execution_count": 22,
   "metadata": {},
   "outputs": [
    {
     "data": {
      "text/html": [
       "<div>\n",
       "<style scoped>\n",
       "    .dataframe tbody tr th:only-of-type {\n",
       "        vertical-align: middle;\n",
       "    }\n",
       "\n",
       "    .dataframe tbody tr th {\n",
       "        vertical-align: top;\n",
       "    }\n",
       "\n",
       "    .dataframe thead th {\n",
       "        text-align: right;\n",
       "    }\n",
       "</style>\n",
       "<table border=\"1\" class=\"dataframe\">\n",
       "  <thead>\n",
       "    <tr style=\"text-align: right;\">\n",
       "      <th></th>\n",
       "      <th>cafe_nm</th>\n",
       "      <th>address</th>\n",
       "      <th>Longitude</th>\n",
       "      <th>Latitude</th>\n",
       "      <th>법정동코드</th>\n",
       "      <th>cafeinrange</th>\n",
       "    </tr>\n",
       "  </thead>\n",
       "  <tbody>\n",
       "    <tr>\n",
       "      <th>0</th>\n",
       "      <td>카페숲</td>\n",
       "      <td>서울특별시 금천구 시흥대로40길</td>\n",
       "      <td>126.909939</td>\n",
       "      <td>37.446689</td>\n",
       "      <td>1154510300</td>\n",
       "      <td>2</td>\n",
       "    </tr>\n",
       "    <tr>\n",
       "      <th>1</th>\n",
       "      <td>매머드커피외대</td>\n",
       "      <td>서울특별시 동대문구 천장산로7길</td>\n",
       "      <td>127.056962</td>\n",
       "      <td>37.598493</td>\n",
       "      <td>1123011000</td>\n",
       "      <td>23</td>\n",
       "    </tr>\n",
       "    <tr>\n",
       "      <th>2</th>\n",
       "      <td>포르마레</td>\n",
       "      <td>서울특별시 강동구 성내로9길</td>\n",
       "      <td>127.125070</td>\n",
       "      <td>37.530474</td>\n",
       "      <td>1174010800</td>\n",
       "      <td>26</td>\n",
       "    </tr>\n",
       "    <tr>\n",
       "      <th>3</th>\n",
       "      <td>카페브릿지</td>\n",
       "      <td>서울특별시 영등포구 여의대로</td>\n",
       "      <td>126.929094</td>\n",
       "      <td>37.525184</td>\n",
       "      <td>1156011000</td>\n",
       "      <td>33</td>\n",
       "    </tr>\n",
       "    <tr>\n",
       "      <th>4</th>\n",
       "      <td>더웨이유통할리스커피</td>\n",
       "      <td>서울특별시 중구 다산로</td>\n",
       "      <td>127.010407</td>\n",
       "      <td>37.553952</td>\n",
       "      <td>1114016200</td>\n",
       "      <td>34</td>\n",
       "    </tr>\n",
       "  </tbody>\n",
       "</table>\n",
       "</div>"
      ],
      "text/plain": [
       "      cafe_nm            address   Longitude   Latitude       법정동코드  \\\n",
       "0         카페숲  서울특별시 금천구 시흥대로40길  126.909939  37.446689  1154510300   \n",
       "1     매머드커피외대  서울특별시 동대문구 천장산로7길  127.056962  37.598493  1123011000   \n",
       "2        포르마레    서울특별시 강동구 성내로9길  127.125070  37.530474  1174010800   \n",
       "3       카페브릿지    서울특별시 영등포구 여의대로  126.929094  37.525184  1156011000   \n",
       "4  더웨이유통할리스커피       서울특별시 중구 다산로  127.010407  37.553952  1114016200   \n",
       "\n",
       "   cafeinrange  \n",
       "0            2  \n",
       "1           23  \n",
       "2           26  \n",
       "3           33  \n",
       "4           34  "
      ]
     },
     "execution_count": 22,
     "metadata": {},
     "output_type": "execute_result"
    }
   ],
   "source": [
    "merged_chunks.head()"
   ]
  },
  {
   "cell_type": "code",
   "execution_count": 21,
   "metadata": {},
   "outputs": [
    {
     "data": {
      "text/html": [
       "<div>\n",
       "<style scoped>\n",
       "    .dataframe tbody tr th:only-of-type {\n",
       "        vertical-align: middle;\n",
       "    }\n",
       "\n",
       "    .dataframe tbody tr th {\n",
       "        vertical-align: top;\n",
       "    }\n",
       "\n",
       "    .dataframe thead th {\n",
       "        text-align: right;\n",
       "    }\n",
       "</style>\n",
       "<table border=\"1\" class=\"dataframe\">\n",
       "  <thead>\n",
       "    <tr style=\"text-align: right;\">\n",
       "      <th></th>\n",
       "      <th>cafe_nm</th>\n",
       "      <th>address</th>\n",
       "      <th>Longitude</th>\n",
       "      <th>Latitude</th>\n",
       "      <th>법정동코드</th>\n",
       "      <th>trashbins_in_range</th>\n",
       "    </tr>\n",
       "  </thead>\n",
       "  <tbody>\n",
       "    <tr>\n",
       "      <th>0</th>\n",
       "      <td>카페숲</td>\n",
       "      <td>서울특별시 금천구 시흥대로40길</td>\n",
       "      <td>126.909939</td>\n",
       "      <td>37.446689</td>\n",
       "      <td>1154510300</td>\n",
       "      <td>0</td>\n",
       "    </tr>\n",
       "    <tr>\n",
       "      <th>1</th>\n",
       "      <td>매머드커피외대</td>\n",
       "      <td>서울특별시 동대문구 천장산로7길</td>\n",
       "      <td>127.056962</td>\n",
       "      <td>37.598493</td>\n",
       "      <td>1123011000</td>\n",
       "      <td>1</td>\n",
       "    </tr>\n",
       "    <tr>\n",
       "      <th>2</th>\n",
       "      <td>포르마레</td>\n",
       "      <td>서울특별시 강동구 성내로9길</td>\n",
       "      <td>127.125070</td>\n",
       "      <td>37.530474</td>\n",
       "      <td>1174010800</td>\n",
       "      <td>0</td>\n",
       "    </tr>\n",
       "    <tr>\n",
       "      <th>3</th>\n",
       "      <td>카페브릿지</td>\n",
       "      <td>서울특별시 영등포구 여의대로</td>\n",
       "      <td>126.929094</td>\n",
       "      <td>37.525184</td>\n",
       "      <td>1156011000</td>\n",
       "      <td>2</td>\n",
       "    </tr>\n",
       "    <tr>\n",
       "      <th>4</th>\n",
       "      <td>더웨이유통할리스커피</td>\n",
       "      <td>서울특별시 중구 다산로</td>\n",
       "      <td>127.010407</td>\n",
       "      <td>37.553952</td>\n",
       "      <td>1114016200</td>\n",
       "      <td>7</td>\n",
       "    </tr>\n",
       "  </tbody>\n",
       "</table>\n",
       "</div>"
      ],
      "text/plain": [
       "      cafe_nm            address   Longitude   Latitude       법정동코드  \\\n",
       "0         카페숲  서울특별시 금천구 시흥대로40길  126.909939  37.446689  1154510300   \n",
       "1     매머드커피외대  서울특별시 동대문구 천장산로7길  127.056962  37.598493  1123011000   \n",
       "2        포르마레    서울특별시 강동구 성내로9길  127.125070  37.530474  1174010800   \n",
       "3       카페브릿지    서울특별시 영등포구 여의대로  126.929094  37.525184  1156011000   \n",
       "4  더웨이유통할리스커피       서울특별시 중구 다산로  127.010407  37.553952  1114016200   \n",
       "\n",
       "   trashbins_in_range  \n",
       "0                   0  \n",
       "1                   1  \n",
       "2                   0  \n",
       "3                   2  \n",
       "4                   7  "
      ]
     },
     "execution_count": 21,
     "metadata": {},
     "output_type": "execute_result"
    }
   ],
   "source": [
    "datanew.head()"
   ]
  },
  {
   "cell_type": "code",
   "execution_count": 23,
   "metadata": {},
   "outputs": [
    {
     "name": "stdout",
     "output_type": "stream",
     "text": [
      "          cafe_nm            address   Longitude   Latitude       법정동코드  \\\n",
      "0             카페숲  서울특별시 금천구 시흥대로40길  126.909939  37.446689  1154510300   \n",
      "1         매머드커피외대  서울특별시 동대문구 천장산로7길  127.056962  37.598493  1123011000   \n",
      "2            포르마레    서울특별시 강동구 성내로9길  127.125070  37.530474  1174010800   \n",
      "3           카페브릿지    서울특별시 영등포구 여의대로  126.929094  37.525184  1156011000   \n",
      "4      더웨이유통할리스커피       서울특별시 중구 다산로  127.010407  37.553952  1114016200   \n",
      "...           ...                ...         ...        ...         ...   \n",
      "21320   빽다방빨래골입구점      서울특별시 강북구 삼양로  127.017708  37.629745  1130510300   \n",
      "21321         청23      서울특별시 마포구 연희로  126.926523  37.560923  1144012100   \n",
      "21322        피트커피  서울특별시 강동구 고덕비즈밸리로  127.160262  37.565439  1174010200   \n",
      "21323    빽다방동여의도점   서울특별시 영등포구 국제금융로  126.931778  37.520198  1156011000   \n",
      "21324       보광동커피      서울특별시 용산구 장문로  126.999566  37.525973  1117013600   \n",
      "\n",
      "       trashbins_in_range  cafeinrange  \n",
      "0                       0            2  \n",
      "1                       1           23  \n",
      "2                       0           26  \n",
      "3                       2           33  \n",
      "4                       7           34  \n",
      "...                   ...          ...  \n",
      "21320                   1           10  \n",
      "21321                   5          137  \n",
      "21322                   0           11  \n",
      "21323                   4           63  \n",
      "21324                   2           14  \n",
      "\n",
      "[21325 rows x 7 columns]\n"
     ]
    },
    {
     "name": "stderr",
     "output_type": "stream",
     "text": [
      "/var/folders/xx/z7zmyqq92gs28yp3ngzz0z4h0000gn/T/ipykernel_2652/2598292986.py:4: SettingWithCopyWarning: \n",
      "A value is trying to be set on a copy of a slice from a DataFrame.\n",
      "Try using .loc[row_indexer,col_indexer] = value instead\n",
      "\n",
      "See the caveats in the documentation: https://pandas.pydata.org/pandas-docs/stable/user_guide/indexing.html#returning-a-view-versus-a-copy\n",
      "  datanew['cafeinrange'] = merged_chunks['cafeinrange'].values\n"
     ]
    }
   ],
   "source": [
    "# datanew에 cafeinrange 컬럼을 붙이기 위해 기존 datanew와 병합\n",
    "# 두 데이터프레임은 인덱스 또는 고유 ID를 기준으로 병합해야 함\n",
    "# 여기서는 단순히 인덱스 기준으로 병합\n",
    "datanew['cafeinrange'] = merged_chunks['cafeinrange'].values\n",
    "\n",
    "# 결과 확인\n",
    "print(datanew)"
   ]
  },
  {
   "cell_type": "code",
   "execution_count": 24,
   "metadata": {},
   "outputs": [],
   "source": [
    "datanew.to_csv('/Users/hayoun/Desktop/DAB/data/datanew0921.csv')"
   ]
  },
  {
   "cell_type": "markdown",
   "metadata": {},
   "source": [
    "## 공공시설 개수 세기"
   ]
  },
  {
   "cell_type": "code",
   "execution_count": 3,
   "metadata": {},
   "outputs": [],
   "source": [
    "# 데이터 불러오기\n",
    "# fulldata = pd.read_csv('/Users/hayoun/Desktop/DAB/data/datanew0921.csv')\n",
    "\n",
    "# public = pd.read_csv('/Users/hayoun/Desktop/DAB/data/서울시 시설물 정보.csv', encoding ='euc-kr' )"
   ]
  },
  {
   "cell_type": "code",
   "execution_count": 15,
   "metadata": {},
   "outputs": [
    {
     "data": {
      "text/html": [
       "<div>\n",
       "<style scoped>\n",
       "    .dataframe tbody tr th:only-of-type {\n",
       "        vertical-align: middle;\n",
       "    }\n",
       "\n",
       "    .dataframe tbody tr th {\n",
       "        vertical-align: top;\n",
       "    }\n",
       "\n",
       "    .dataframe thead th {\n",
       "        text-align: right;\n",
       "    }\n",
       "</style>\n",
       "<table border=\"1\" class=\"dataframe\">\n",
       "  <thead>\n",
       "    <tr style=\"text-align: right;\">\n",
       "      <th></th>\n",
       "      <th>Unnamed: 0</th>\n",
       "      <th>cafe_nm</th>\n",
       "      <th>address</th>\n",
       "      <th>Longitude</th>\n",
       "      <th>Latitude</th>\n",
       "      <th>법정동코드</th>\n",
       "      <th>trashbins_in_range</th>\n",
       "      <th>cafeinrange</th>\n",
       "    </tr>\n",
       "  </thead>\n",
       "  <tbody>\n",
       "    <tr>\n",
       "      <th>0</th>\n",
       "      <td>0</td>\n",
       "      <td>카페숲</td>\n",
       "      <td>서울특별시 금천구 시흥대로40길</td>\n",
       "      <td>126.909939</td>\n",
       "      <td>37.446689</td>\n",
       "      <td>1154510300</td>\n",
       "      <td>0</td>\n",
       "      <td>2</td>\n",
       "    </tr>\n",
       "    <tr>\n",
       "      <th>1</th>\n",
       "      <td>1</td>\n",
       "      <td>매머드커피외대</td>\n",
       "      <td>서울특별시 동대문구 천장산로7길</td>\n",
       "      <td>127.056962</td>\n",
       "      <td>37.598493</td>\n",
       "      <td>1123011000</td>\n",
       "      <td>1</td>\n",
       "      <td>23</td>\n",
       "    </tr>\n",
       "    <tr>\n",
       "      <th>2</th>\n",
       "      <td>2</td>\n",
       "      <td>포르마레</td>\n",
       "      <td>서울특별시 강동구 성내로9길</td>\n",
       "      <td>127.125070</td>\n",
       "      <td>37.530474</td>\n",
       "      <td>1174010800</td>\n",
       "      <td>0</td>\n",
       "      <td>26</td>\n",
       "    </tr>\n",
       "    <tr>\n",
       "      <th>3</th>\n",
       "      <td>3</td>\n",
       "      <td>카페브릿지</td>\n",
       "      <td>서울특별시 영등포구 여의대로</td>\n",
       "      <td>126.929094</td>\n",
       "      <td>37.525184</td>\n",
       "      <td>1156011000</td>\n",
       "      <td>2</td>\n",
       "      <td>33</td>\n",
       "    </tr>\n",
       "    <tr>\n",
       "      <th>4</th>\n",
       "      <td>4</td>\n",
       "      <td>더웨이유통할리스커피</td>\n",
       "      <td>서울특별시 중구 다산로</td>\n",
       "      <td>127.010407</td>\n",
       "      <td>37.553952</td>\n",
       "      <td>1114016200</td>\n",
       "      <td>7</td>\n",
       "      <td>34</td>\n",
       "    </tr>\n",
       "  </tbody>\n",
       "</table>\n",
       "</div>"
      ],
      "text/plain": [
       "   Unnamed: 0     cafe_nm            address   Longitude   Latitude  \\\n",
       "0           0         카페숲  서울특별시 금천구 시흥대로40길  126.909939  37.446689   \n",
       "1           1     매머드커피외대  서울특별시 동대문구 천장산로7길  127.056962  37.598493   \n",
       "2           2        포르마레    서울특별시 강동구 성내로9길  127.125070  37.530474   \n",
       "3           3       카페브릿지    서울특별시 영등포구 여의대로  126.929094  37.525184   \n",
       "4           4  더웨이유통할리스커피       서울특별시 중구 다산로  127.010407  37.553952   \n",
       "\n",
       "        법정동코드  trashbins_in_range  cafeinrange  \n",
       "0  1154510300                   0            2  \n",
       "1  1123011000                   1           23  \n",
       "2  1174010800                   0           26  \n",
       "3  1156011000                   2           33  \n",
       "4  1114016200                   7           34  "
      ]
     },
     "execution_count": 15,
     "metadata": {},
     "output_type": "execute_result"
    }
   ],
   "source": [
    "fulldata.head()"
   ]
  },
  {
   "cell_type": "code",
   "execution_count": 4,
   "metadata": {},
   "outputs": [
    {
     "name": "stdout",
     "output_type": "stream",
     "text": [
      "<class 'pandas.core.frame.DataFrame'>\n",
      "RangeIndex: 3606 entries, 0 to 3605\n",
      "Data columns (total 13 columns):\n",
      " #   Column     Non-Null Count  Dtype  \n",
      "---  ------     --------------  -----  \n",
      " 0   아이디        3606 non-null   int64  \n",
      " 1   새주소 아이디    0 non-null      float64\n",
      " 2   시설 아이디     3606 non-null   object \n",
      " 3   시설명        3606 non-null   object \n",
      " 4   위도         3606 non-null   float64\n",
      " 5   경도         3606 non-null   float64\n",
      " 6   건물군여부      2260 non-null   object \n",
      " 7   시설용도분류     3606 non-null   object \n",
      " 8   소재지 도로명주소  3494 non-null   object \n",
      " 9   소재지 지번주소   3606 non-null   object \n",
      " 10  기타         89 non-null     object \n",
      " 11  국가지점번호     3606 non-null   object \n",
      " 12  데이터 기준일자   3606 non-null   object \n",
      "dtypes: float64(3), int64(1), object(9)\n",
      "memory usage: 366.4+ KB\n"
     ]
    }
   ],
   "source": [
    "public.info()"
   ]
  },
  {
   "cell_type": "code",
   "execution_count": 8,
   "metadata": {},
   "outputs": [
    {
     "data": {
      "text/html": [
       "<div>\n",
       "<style scoped>\n",
       "    .dataframe tbody tr th:only-of-type {\n",
       "        vertical-align: middle;\n",
       "    }\n",
       "\n",
       "    .dataframe tbody tr th {\n",
       "        vertical-align: top;\n",
       "    }\n",
       "\n",
       "    .dataframe thead th {\n",
       "        text-align: right;\n",
       "    }\n",
       "</style>\n",
       "<table border=\"1\" class=\"dataframe\">\n",
       "  <thead>\n",
       "    <tr style=\"text-align: right;\">\n",
       "      <th></th>\n",
       "      <th>아이디</th>\n",
       "      <th>새주소 아이디</th>\n",
       "      <th>시설 아이디</th>\n",
       "      <th>시설명</th>\n",
       "      <th>위도</th>\n",
       "      <th>경도</th>\n",
       "      <th>건물군여부</th>\n",
       "      <th>시설용도분류</th>\n",
       "      <th>소재지 도로명주소</th>\n",
       "      <th>소재지 지번주소</th>\n",
       "      <th>기타</th>\n",
       "      <th>국가지점번호</th>\n",
       "      <th>데이터 기준일자</th>\n",
       "    </tr>\n",
       "  </thead>\n",
       "  <tbody>\n",
       "    <tr>\n",
       "      <th>0</th>\n",
       "      <td>3007</td>\n",
       "      <td>NaN</td>\n",
       "      <td>P0877</td>\n",
       "      <td>꿈동산어린이공원</td>\n",
       "      <td>37.650288</td>\n",
       "      <td>127.036860</td>\n",
       "      <td>BG_AA</td>\n",
       "      <td>FU_BI</td>\n",
       "      <td>서울특별시 도봉구 도봉로110나길 99</td>\n",
       "      <td>서울특별시 도봉구 창동 663-1</td>\n",
       "      <td>NaN</td>\n",
       "      <td>다사 5914 6130</td>\n",
       "      <td>2022-12-07 00:00:00.0</td>\n",
       "    </tr>\n",
       "    <tr>\n",
       "      <th>1</th>\n",
       "      <td>3008</td>\n",
       "      <td>NaN</td>\n",
       "      <td>P0878</td>\n",
       "      <td>미화어린이공원</td>\n",
       "      <td>37.654945</td>\n",
       "      <td>127.039690</td>\n",
       "      <td>BG_AA</td>\n",
       "      <td>FU_BI</td>\n",
       "      <td>서울특별시 도봉구 도봉로 564</td>\n",
       "      <td>서울특별시 도봉구 창동 715-17</td>\n",
       "      <td>NaN</td>\n",
       "      <td>다사 5939 6181</td>\n",
       "      <td>2022-12-07 00:00:00.0</td>\n",
       "    </tr>\n",
       "    <tr>\n",
       "      <th>2</th>\n",
       "      <td>3009</td>\n",
       "      <td>NaN</td>\n",
       "      <td>P0879</td>\n",
       "      <td>꿈동산어린이공원</td>\n",
       "      <td>37.573290</td>\n",
       "      <td>127.045840</td>\n",
       "      <td>BG_AA</td>\n",
       "      <td>FU_BI</td>\n",
       "      <td>서울특별시 동대문구 황물로 42</td>\n",
       "      <td>서울특별시 동대문구 답십리동 1002-1</td>\n",
       "      <td>NaN</td>\n",
       "      <td>다사 5989 5275</td>\n",
       "      <td>2022-12-07 00:00:00.0</td>\n",
       "    </tr>\n",
       "    <tr>\n",
       "      <th>3</th>\n",
       "      <td>3010</td>\n",
       "      <td>NaN</td>\n",
       "      <td>P0880</td>\n",
       "      <td>새움어린이공원</td>\n",
       "      <td>37.570760</td>\n",
       "      <td>127.048676</td>\n",
       "      <td>BG_AA</td>\n",
       "      <td>FU_BI</td>\n",
       "      <td>서울특별시 동대문구 천호대로55길 11</td>\n",
       "      <td>서울특별시 동대문구 답십리동 1009-1</td>\n",
       "      <td>NaN</td>\n",
       "      <td>다사 6014 5247</td>\n",
       "      <td>2022-12-07 00:00:00.0</td>\n",
       "    </tr>\n",
       "    <tr>\n",
       "      <th>4</th>\n",
       "      <td>3012</td>\n",
       "      <td>NaN</td>\n",
       "      <td>P0882</td>\n",
       "      <td>동산어린이공원</td>\n",
       "      <td>37.566967</td>\n",
       "      <td>127.057540</td>\n",
       "      <td>BG_AA</td>\n",
       "      <td>FU_BI</td>\n",
       "      <td>서울특별시 동대문구 전농로2나길 7</td>\n",
       "      <td>서울특별시 동대문구 답십리동 998-1</td>\n",
       "      <td>NaN</td>\n",
       "      <td>다사 6092 5204</td>\n",
       "      <td>2022-12-07 00:00:00.0</td>\n",
       "    </tr>\n",
       "  </tbody>\n",
       "</table>\n",
       "</div>"
      ],
      "text/plain": [
       "    아이디  새주소 아이디 시설 아이디       시설명         위도          경도  건물군여부 시설용도분류  \\\n",
       "0  3007      NaN  P0877  꿈동산어린이공원  37.650288  127.036860  BG_AA  FU_BI   \n",
       "1  3008      NaN  P0878   미화어린이공원  37.654945  127.039690  BG_AA  FU_BI   \n",
       "2  3009      NaN  P0879  꿈동산어린이공원  37.573290  127.045840  BG_AA  FU_BI   \n",
       "3  3010      NaN  P0880   새움어린이공원  37.570760  127.048676  BG_AA  FU_BI   \n",
       "4  3012      NaN  P0882   동산어린이공원  37.566967  127.057540  BG_AA  FU_BI   \n",
       "\n",
       "               소재지 도로명주소                소재지 지번주소   기타        국가지점번호  \\\n",
       "0  서울특별시 도봉구 도봉로110나길 99      서울특별시 도봉구 창동 663-1  NaN  다사 5914 6130   \n",
       "1      서울특별시 도봉구 도봉로 564     서울특별시 도봉구 창동 715-17  NaN  다사 5939 6181   \n",
       "2      서울특별시 동대문구 황물로 42  서울특별시 동대문구 답십리동 1002-1  NaN  다사 5989 5275   \n",
       "3  서울특별시 동대문구 천호대로55길 11  서울특별시 동대문구 답십리동 1009-1  NaN  다사 6014 5247   \n",
       "4    서울특별시 동대문구 전농로2나길 7   서울특별시 동대문구 답십리동 998-1  NaN  다사 6092 5204   \n",
       "\n",
       "                데이터 기준일자  \n",
       "0  2022-12-07 00:00:00.0  \n",
       "1  2022-12-07 00:00:00.0  \n",
       "2  2022-12-07 00:00:00.0  \n",
       "3  2022-12-07 00:00:00.0  \n",
       "4  2022-12-07 00:00:00.0  "
      ]
     },
     "execution_count": 8,
     "metadata": {},
     "output_type": "execute_result"
    }
   ],
   "source": [
    "public.head()"
   ]
  },
  {
   "cell_type": "code",
   "execution_count": 9,
   "metadata": {},
   "outputs": [
    {
     "data": {
      "text/plain": [
       "array(['FU_BI', 'FU_BA', 'FU_BC', 'FU_BB', 'FU_BD', 'FU_BE', 'FU_BG',\n",
       "       'FU_BF', 'FU_BH', 'FU_BJ'], dtype=object)"
      ]
     },
     "execution_count": 9,
     "metadata": {},
     "output_type": "execute_result"
    }
   ],
   "source": [
    "public['시설용도분류'].unique()\n",
    "# FU_BA가 '대규모점포'"
   ]
  },
  {
   "cell_type": "code",
   "execution_count": 10,
   "metadata": {},
   "outputs": [
    {
     "data": {
      "text/plain": [
       "array(['FU_BI', 'FU_BC', 'FU_BB', 'FU_BD', 'FU_BE', 'FU_BG', 'FU_BF',\n",
       "       'FU_BH', 'FU_BJ'], dtype=object)"
      ]
     },
     "execution_count": 10,
     "metadata": {},
     "output_type": "execute_result"
    }
   ],
   "source": [
    "public = public[public['시설용도분류'] != 'FU_BA']\n",
    "public['시설용도분류'].unique()"
   ]
  },
  {
   "cell_type": "code",
   "execution_count": 11,
   "metadata": {},
   "outputs": [
    {
     "data": {
      "text/html": [
       "<div>\n",
       "<style scoped>\n",
       "    .dataframe tbody tr th:only-of-type {\n",
       "        vertical-align: middle;\n",
       "    }\n",
       "\n",
       "    .dataframe tbody tr th {\n",
       "        vertical-align: top;\n",
       "    }\n",
       "\n",
       "    .dataframe thead th {\n",
       "        text-align: right;\n",
       "    }\n",
       "</style>\n",
       "<table border=\"1\" class=\"dataframe\">\n",
       "  <thead>\n",
       "    <tr style=\"text-align: right;\">\n",
       "      <th></th>\n",
       "      <th>시설 아이디</th>\n",
       "      <th>시설명</th>\n",
       "      <th>위도</th>\n",
       "      <th>경도</th>\n",
       "      <th>소재지 도로명주소</th>\n",
       "    </tr>\n",
       "  </thead>\n",
       "  <tbody>\n",
       "    <tr>\n",
       "      <th>0</th>\n",
       "      <td>P0877</td>\n",
       "      <td>꿈동산어린이공원</td>\n",
       "      <td>37.650288</td>\n",
       "      <td>127.036860</td>\n",
       "      <td>서울특별시 도봉구 도봉로110나길 99</td>\n",
       "    </tr>\n",
       "    <tr>\n",
       "      <th>1</th>\n",
       "      <td>P0878</td>\n",
       "      <td>미화어린이공원</td>\n",
       "      <td>37.654945</td>\n",
       "      <td>127.039690</td>\n",
       "      <td>서울특별시 도봉구 도봉로 564</td>\n",
       "    </tr>\n",
       "    <tr>\n",
       "      <th>2</th>\n",
       "      <td>P0879</td>\n",
       "      <td>꿈동산어린이공원</td>\n",
       "      <td>37.573290</td>\n",
       "      <td>127.045840</td>\n",
       "      <td>서울특별시 동대문구 황물로 42</td>\n",
       "    </tr>\n",
       "    <tr>\n",
       "      <th>3</th>\n",
       "      <td>P0880</td>\n",
       "      <td>새움어린이공원</td>\n",
       "      <td>37.570760</td>\n",
       "      <td>127.048676</td>\n",
       "      <td>서울특별시 동대문구 천호대로55길 11</td>\n",
       "    </tr>\n",
       "    <tr>\n",
       "      <th>4</th>\n",
       "      <td>P0882</td>\n",
       "      <td>동산어린이공원</td>\n",
       "      <td>37.566967</td>\n",
       "      <td>127.057540</td>\n",
       "      <td>서울특별시 동대문구 전농로2나길 7</td>\n",
       "    </tr>\n",
       "  </tbody>\n",
       "</table>\n",
       "</div>"
      ],
      "text/plain": [
       "  시설 아이디       시설명         위도          경도              소재지 도로명주소\n",
       "0  P0877  꿈동산어린이공원  37.650288  127.036860  서울특별시 도봉구 도봉로110나길 99\n",
       "1  P0878   미화어린이공원  37.654945  127.039690      서울특별시 도봉구 도봉로 564\n",
       "2  P0879  꿈동산어린이공원  37.573290  127.045840      서울특별시 동대문구 황물로 42\n",
       "3  P0880   새움어린이공원  37.570760  127.048676  서울특별시 동대문구 천호대로55길 11\n",
       "4  P0882   동산어린이공원  37.566967  127.057540    서울특별시 동대문구 전농로2나길 7"
      ]
     },
     "execution_count": 11,
     "metadata": {},
     "output_type": "execute_result"
    }
   ],
   "source": [
    "# 시설명, 위도, 경도, 소재지 도로명 주소 열만 남기기\n",
    "columns_to_keep = ['시설 아이디', '시설명', '위도', '경도', '소재지 도로명주소']\n",
    "public = public[columns_to_keep]\n",
    "public.head()"
   ]
  },
  {
   "cell_type": "code",
   "execution_count": 13,
   "metadata": {},
   "outputs": [],
   "source": [
    "from haversine import haversine, Unit\n",
    "from tqdm import tqdm\n",
    "\n",
    "def count_facilities_near_cafes(cafe_coords, facility_coords, radius=300):\n",
    "    \"\"\"\n",
    "    각 카페 근방 300m 내에 있는 공공시설의 개수를 계산합니다.\n",
    "    \n",
    "    Parameters:\n",
    "    cafe_coords (DataFrame): 카페 좌표 데이터프레임\n",
    "    facility_coords (DataFrame): 공공시설 좌표 데이터프레임\n",
    "    radius (float): 탐색 반경 (단위: m), 기본값 300m\n",
    "    \n",
    "    Returns:\n",
    "    list: 각 카페 근방의 공공시설 개수\n",
    "    \"\"\"\n",
    "    facility_count = []\n",
    "    \n",
    "    # 각 카페마다 300m 반경 내의 공공시설 개수 계산\n",
    "    for idx, cafe_row in tqdm(cafe_coords.iterrows(), total=cafe_coords.shape[0], desc=\"Processing cafes\"):\n",
    "        cafe_location = (cafe_row['Latitude'], cafe_row['Longitude'])\n",
    "        count = 0\n",
    "        \n",
    "        # 모든 공공시설과의 거리를 일일이 계산\n",
    "        for _, facility_row in facility_coords.iterrows():\n",
    "            facility_location = (facility_row['위도'], facility_row['경도'])\n",
    "            distance = haversine(cafe_location, facility_location, unit=Unit.METERS)\n",
    "            \n",
    "            # 300m 이내의 공공시설만 카운트\n",
    "            if distance <= radius:\n",
    "                count += 1\n",
    "        \n",
    "        facility_count.append(count)\n",
    "    \n",
    "    return facility_count\n"
   ]
  },
  {
   "cell_type": "code",
   "execution_count": 17,
   "metadata": {},
   "outputs": [
    {
     "name": "stderr",
     "output_type": "stream",
     "text": [
      "Processing cafes: 100%|██████████| 21325/21325 [10:21<00:00, 34.29it/s]\n"
     ]
    },
    {
     "data": {
      "text/html": [
       "<div>\n",
       "<style scoped>\n",
       "    .dataframe tbody tr th:only-of-type {\n",
       "        vertical-align: middle;\n",
       "    }\n",
       "\n",
       "    .dataframe tbody tr th {\n",
       "        vertical-align: top;\n",
       "    }\n",
       "\n",
       "    .dataframe thead th {\n",
       "        text-align: right;\n",
       "    }\n",
       "</style>\n",
       "<table border=\"1\" class=\"dataframe\">\n",
       "  <thead>\n",
       "    <tr style=\"text-align: right;\">\n",
       "      <th></th>\n",
       "      <th>Unnamed: 0</th>\n",
       "      <th>cafe_nm</th>\n",
       "      <th>address</th>\n",
       "      <th>Longitude</th>\n",
       "      <th>Latitude</th>\n",
       "      <th>법정동코드</th>\n",
       "      <th>trashbins_in_range</th>\n",
       "      <th>cafeinrange</th>\n",
       "      <th>facilities_in_range</th>\n",
       "    </tr>\n",
       "  </thead>\n",
       "  <tbody>\n",
       "    <tr>\n",
       "      <th>0</th>\n",
       "      <td>0</td>\n",
       "      <td>카페숲</td>\n",
       "      <td>서울특별시 금천구 시흥대로40길</td>\n",
       "      <td>126.909939</td>\n",
       "      <td>37.446689</td>\n",
       "      <td>1154510300</td>\n",
       "      <td>0</td>\n",
       "      <td>2</td>\n",
       "      <td>1</td>\n",
       "    </tr>\n",
       "    <tr>\n",
       "      <th>1</th>\n",
       "      <td>1</td>\n",
       "      <td>매머드커피외대</td>\n",
       "      <td>서울특별시 동대문구 천장산로7길</td>\n",
       "      <td>127.056962</td>\n",
       "      <td>37.598493</td>\n",
       "      <td>1123011000</td>\n",
       "      <td>1</td>\n",
       "      <td>23</td>\n",
       "      <td>0</td>\n",
       "    </tr>\n",
       "    <tr>\n",
       "      <th>2</th>\n",
       "      <td>2</td>\n",
       "      <td>포르마레</td>\n",
       "      <td>서울특별시 강동구 성내로9길</td>\n",
       "      <td>127.125070</td>\n",
       "      <td>37.530474</td>\n",
       "      <td>1174010800</td>\n",
       "      <td>0</td>\n",
       "      <td>26</td>\n",
       "      <td>4</td>\n",
       "    </tr>\n",
       "    <tr>\n",
       "      <th>3</th>\n",
       "      <td>3</td>\n",
       "      <td>카페브릿지</td>\n",
       "      <td>서울특별시 영등포구 여의대로</td>\n",
       "      <td>126.929094</td>\n",
       "      <td>37.525184</td>\n",
       "      <td>1156011000</td>\n",
       "      <td>2</td>\n",
       "      <td>33</td>\n",
       "      <td>0</td>\n",
       "    </tr>\n",
       "    <tr>\n",
       "      <th>4</th>\n",
       "      <td>4</td>\n",
       "      <td>더웨이유통할리스커피</td>\n",
       "      <td>서울특별시 중구 다산로</td>\n",
       "      <td>127.010407</td>\n",
       "      <td>37.553952</td>\n",
       "      <td>1114016200</td>\n",
       "      <td>7</td>\n",
       "      <td>34</td>\n",
       "      <td>4</td>\n",
       "    </tr>\n",
       "  </tbody>\n",
       "</table>\n",
       "</div>"
      ],
      "text/plain": [
       "   Unnamed: 0     cafe_nm            address   Longitude   Latitude  \\\n",
       "0           0         카페숲  서울특별시 금천구 시흥대로40길  126.909939  37.446689   \n",
       "1           1     매머드커피외대  서울특별시 동대문구 천장산로7길  127.056962  37.598493   \n",
       "2           2        포르마레    서울특별시 강동구 성내로9길  127.125070  37.530474   \n",
       "3           3       카페브릿지    서울특별시 영등포구 여의대로  126.929094  37.525184   \n",
       "4           4  더웨이유통할리스커피       서울특별시 중구 다산로  127.010407  37.553952   \n",
       "\n",
       "        법정동코드  trashbins_in_range  cafeinrange  facilities_in_range  \n",
       "0  1154510300                   0            2                    1  \n",
       "1  1123011000                   1           23                    0  \n",
       "2  1174010800                   0           26                    4  \n",
       "3  1156011000                   2           33                    0  \n",
       "4  1114016200                   7           34                    4  "
      ]
     },
     "execution_count": 17,
     "metadata": {},
     "output_type": "execute_result"
    }
   ],
   "source": [
    "# 300m 반경 내 공공시설 개수 계산\n",
    "facility_count = count_facilities_near_cafes(fulldata[['Latitude', 'Longitude']], public[['위도', '경도']], radius=300)\n",
    "\n",
    "# 결과를 데이터프레임에 추가\n",
    "fulldata['facilities_in_range'] = facility_count\n",
    "\n",
    "# 최종 결과 출력\n",
    "fulldata.head()"
   ]
  },
  {
   "cell_type": "code",
   "execution_count": 18,
   "metadata": {},
   "outputs": [],
   "source": [
    "# fulldata.to_csv('/Users/hayoun/Desktop/DAB/data/datanew0922.csv')"
   ]
  },
  {
   "cell_type": "markdown",
   "metadata": {},
   "source": [
    "### (사용X) KD TREE 활용"
   ]
  },
  {
   "cell_type": "code",
   "execution_count": 7,
   "metadata": {},
   "outputs": [
    {
     "name": "stdout",
     "output_type": "stream",
     "text": [
      "          cafe_nm  cafes_in_range\n",
      "0             카페숲               2\n",
      "1         매머드커피외대              23\n",
      "2            포르마레              26\n",
      "3           카페브릿지              19\n",
      "4      더웨이유통할리스커피              34\n",
      "...           ...             ...\n",
      "21320   빽다방빨래골입구점              10\n",
      "21321         청23             136\n",
      "21322        피트커피               4\n",
      "21323    빽다방동여의도점              59\n",
      "21324       보광동커피              14\n",
      "\n",
      "[21325 rows x 2 columns]\n"
     ]
    },
    {
     "name": "stderr",
     "output_type": "stream",
     "text": [
      "/var/folders/xx/z7zmyqq92gs28yp3ngzz0z4h0000gn/T/ipykernel_33599/2593881520.py:40: SettingWithCopyWarning: \n",
      "A value is trying to be set on a copy of a slice from a DataFrame.\n",
      "Try using .loc[row_indexer,col_indexer] = value instead\n",
      "\n",
      "See the caveats in the documentation: https://pandas.pydata.org/pandas-docs/stable/user_guide/indexing.html#returning-a-view-versus-a-copy\n",
      "  datanew['cafes_in_range'] = cafes_count\n"
     ]
    }
   ],
   "source": [
    "def count_cafes_within_radius(cafe_coords, radius=300):\n",
    "    \"\"\"\n",
    "    각 카페 근방 300m 내에 있는 다른 카페의 개수를 구합니다.\n",
    "    \n",
    "    Parameters:\n",
    "    cafe_coords (numpy array): shape (n_cafes, 2), 카페 좌표 데이터\n",
    "    radius (float): 탐색 반경 (단위: m), 기본값 300m\n",
    "    \n",
    "    Returns:\n",
    "    numpy array: 각 카페 근방의 다른 카페 개수 (n_cafes,)\n",
    "    \"\"\"\n",
    "    # 카페 좌표에 대한 KDTree 생성\n",
    "    cafe_tree = KDTree(cafe_coords)\n",
    "    \n",
    "    # 각 카페에 대해 반경 내 다른 카페의 개수를 저장할 리스트\n",
    "    cafes_count = []\n",
    "    \n",
    "    # 각 카페 좌표에 대해 300m 반경 내의 다른 카페 개수를 계산\n",
    "    for cafe in cafe_coords:\n",
    "        # KDTree에서 근사 거리로 후보 찾기 (약 300m 반경으로 검색)\n",
    "        candidate_indices = cafe_tree.query_ball_point(cafe, r=0.05)  # 0.003도 근사치로 검색\n",
    "    \n",
    "        \n",
    "        # 후보 중 haversine 거리를 다시 계산하여 300m 내 카페 필터링\n",
    "        count = 0\n",
    "        for idx in candidate_indices:\n",
    "            other_cafe = cafe_coords[idx]\n",
    "            distance = haversine(cafe, other_cafe, unit=Unit.METERS)  # haversine으로 정확한 거리 계산\n",
    "            if 0 < distance <= radius:  # 자기 자신은 제외하고 300m 내 카페만 카운트\n",
    "                count += 1\n",
    "        \n",
    "        cafes_count.append(count)\n",
    "    \n",
    "    return np.array(cafes_count)\n",
    "\n",
    "# 300m 내 카페 개수 계산\n",
    "cafes_count = count_cafes_within_radius(cafe_coords, radius=300)\n",
    "\n",
    "# 결과를 데이터프레임에 추가\n",
    "datanew['cafes_in_range'] = cafes_count\n",
    "\n",
    "# 결과 출력\n",
    "print(datanew[['cafe_nm', 'cafes_in_range']])"
   ]
  },
  {
   "cell_type": "code",
   "execution_count": 8,
   "metadata": {},
   "outputs": [
    {
     "data": {
      "text/html": [
       "<div>\n",
       "<style scoped>\n",
       "    .dataframe tbody tr th:only-of-type {\n",
       "        vertical-align: middle;\n",
       "    }\n",
       "\n",
       "    .dataframe tbody tr th {\n",
       "        vertical-align: top;\n",
       "    }\n",
       "\n",
       "    .dataframe thead th {\n",
       "        text-align: right;\n",
       "    }\n",
       "</style>\n",
       "<table border=\"1\" class=\"dataframe\">\n",
       "  <thead>\n",
       "    <tr style=\"text-align: right;\">\n",
       "      <th></th>\n",
       "      <th>cafe_nm</th>\n",
       "      <th>address</th>\n",
       "      <th>Longitude</th>\n",
       "      <th>Latitude</th>\n",
       "      <th>법정동코드</th>\n",
       "      <th>cafeinrange</th>\n",
       "    </tr>\n",
       "  </thead>\n",
       "  <tbody>\n",
       "    <tr>\n",
       "      <th>0</th>\n",
       "      <td>카페숲</td>\n",
       "      <td>서울특별시 금천구 시흥대로40길</td>\n",
       "      <td>126.909939</td>\n",
       "      <td>37.446689</td>\n",
       "      <td>1154510300</td>\n",
       "      <td>2</td>\n",
       "    </tr>\n",
       "    <tr>\n",
       "      <th>1</th>\n",
       "      <td>매머드커피외대</td>\n",
       "      <td>서울특별시 동대문구 천장산로7길</td>\n",
       "      <td>127.056962</td>\n",
       "      <td>37.598493</td>\n",
       "      <td>1123011000</td>\n",
       "      <td>23</td>\n",
       "    </tr>\n",
       "    <tr>\n",
       "      <th>2</th>\n",
       "      <td>포르마레</td>\n",
       "      <td>서울특별시 강동구 성내로9길</td>\n",
       "      <td>127.125070</td>\n",
       "      <td>37.530474</td>\n",
       "      <td>1174010800</td>\n",
       "      <td>26</td>\n",
       "    </tr>\n",
       "    <tr>\n",
       "      <th>3</th>\n",
       "      <td>카페브릿지</td>\n",
       "      <td>서울특별시 영등포구 여의대로</td>\n",
       "      <td>126.929094</td>\n",
       "      <td>37.525184</td>\n",
       "      <td>1156011000</td>\n",
       "      <td>33</td>\n",
       "    </tr>\n",
       "    <tr>\n",
       "      <th>4</th>\n",
       "      <td>더웨이유통할리스커피</td>\n",
       "      <td>서울특별시 중구 다산로</td>\n",
       "      <td>127.010407</td>\n",
       "      <td>37.553952</td>\n",
       "      <td>1114016200</td>\n",
       "      <td>34</td>\n",
       "    </tr>\n",
       "  </tbody>\n",
       "</table>\n",
       "</div>"
      ],
      "text/plain": [
       "      cafe_nm            address   Longitude   Latitude       법정동코드  \\\n",
       "0         카페숲  서울특별시 금천구 시흥대로40길  126.909939  37.446689  1154510300   \n",
       "1     매머드커피외대  서울특별시 동대문구 천장산로7길  127.056962  37.598493  1123011000   \n",
       "2        포르마레    서울특별시 강동구 성내로9길  127.125070  37.530474  1174010800   \n",
       "3       카페브릿지    서울특별시 영등포구 여의대로  126.929094  37.525184  1156011000   \n",
       "4  더웨이유통할리스커피       서울특별시 중구 다산로  127.010407  37.553952  1114016200   \n",
       "\n",
       "   cafeinrange  \n",
       "0            2  \n",
       "1           23  \n",
       "2           26  \n",
       "3           33  \n",
       "4           34  "
      ]
     },
     "execution_count": 8,
     "metadata": {},
     "output_type": "execute_result"
    }
   ],
   "source": [
    "colabdata = pd.read_csv('/Users/hayoun/Downloads/chunk_1_result.csv')\n",
    "colabdata.head()"
   ]
  },
  {
   "cell_type": "code",
   "execution_count": 15,
   "metadata": {},
   "outputs": [
    {
     "data": {
      "text/html": [
       "<div>\n",
       "<style scoped>\n",
       "    .dataframe tbody tr th:only-of-type {\n",
       "        vertical-align: middle;\n",
       "    }\n",
       "\n",
       "    .dataframe tbody tr th {\n",
       "        vertical-align: top;\n",
       "    }\n",
       "\n",
       "    .dataframe thead th {\n",
       "        text-align: right;\n",
       "    }\n",
       "</style>\n",
       "<table border=\"1\" class=\"dataframe\">\n",
       "  <thead>\n",
       "    <tr style=\"text-align: right;\">\n",
       "      <th></th>\n",
       "      <th>연번</th>\n",
       "      <th>자치구명</th>\n",
       "      <th>설치위치(도로명 주소)</th>\n",
       "      <th>Latitude</th>\n",
       "      <th>Longitude</th>\n",
       "    </tr>\n",
       "  </thead>\n",
       "  <tbody>\n",
       "    <tr>\n",
       "      <th>0</th>\n",
       "      <td>1</td>\n",
       "      <td>종로구</td>\n",
       "      <td>사직로 125</td>\n",
       "      <td>37.576160</td>\n",
       "      <td>126.972866</td>\n",
       "    </tr>\n",
       "    <tr>\n",
       "      <th>1</th>\n",
       "      <td>2</td>\n",
       "      <td>종로구</td>\n",
       "      <td>사직로 125</td>\n",
       "      <td>37.576160</td>\n",
       "      <td>126.972866</td>\n",
       "    </tr>\n",
       "    <tr>\n",
       "      <th>2</th>\n",
       "      <td>3</td>\n",
       "      <td>종로구</td>\n",
       "      <td>자하문로 28</td>\n",
       "      <td>37.578560</td>\n",
       "      <td>126.971968</td>\n",
       "    </tr>\n",
       "    <tr>\n",
       "      <th>3</th>\n",
       "      <td>4</td>\n",
       "      <td>종로구</td>\n",
       "      <td>자하문로 28</td>\n",
       "      <td>37.578560</td>\n",
       "      <td>126.971968</td>\n",
       "    </tr>\n",
       "    <tr>\n",
       "      <th>4</th>\n",
       "      <td>5</td>\n",
       "      <td>종로구</td>\n",
       "      <td>자하문로 44</td>\n",
       "      <td>37.579972</td>\n",
       "      <td>126.971553</td>\n",
       "    </tr>\n",
       "  </tbody>\n",
       "</table>\n",
       "</div>"
      ],
      "text/plain": [
       "   연번 자치구명 설치위치(도로명 주소)   Latitude   Longitude\n",
       "0   1  종로구      사직로 125  37.576160  126.972866\n",
       "1   2  종로구      사직로 125  37.576160  126.972866\n",
       "2   3  종로구      자하문로 28  37.578560  126.971968\n",
       "3   4  종로구      자하문로 28  37.578560  126.971968\n",
       "4   5  종로구      자하문로 44  37.579972  126.971553"
      ]
     },
     "execution_count": 15,
     "metadata": {},
     "output_type": "execute_result"
    }
   ],
   "source": [
    "trashbin = pd.read_csv('/Users/hayoun/Downloads/trashbin.csv')\n",
    "\n",
    "trashbin = trashbin.iloc[:,[0,1,2,3,4]]\n",
    "trashbin.head()"
   ]
  },
  {
   "cell_type": "code",
   "execution_count": 17,
   "metadata": {},
   "outputs": [
    {
     "name": "stdout",
     "output_type": "stream",
     "text": [
      "<class 'pandas.core.frame.DataFrame'>\n",
      "Index: 5328 entries, 0 to 5379\n",
      "Data columns (total 5 columns):\n",
      " #   Column        Non-Null Count  Dtype  \n",
      "---  ------        --------------  -----  \n",
      " 0   연번            5328 non-null   int64  \n",
      " 1   자치구명          5328 non-null   object \n",
      " 2   설치위치(도로명 주소)  5328 non-null   object \n",
      " 3   Latitude      5328 non-null   float64\n",
      " 4   Longitude     5328 non-null   float64\n",
      "dtypes: float64(2), int64(1), object(2)\n",
      "memory usage: 249.8+ KB\n"
     ]
    }
   ],
   "source": [
    "trashbin.info()"
   ]
  },
  {
   "cell_type": "code",
   "execution_count": 16,
   "metadata": {},
   "outputs": [],
   "source": [
    "trashbin = trashbin.dropna(subset=['Latitude', 'Longitude'])\n",
    "\n",
    "trashbin_coords = np.array(trashbin[['Latitude', 'Longitude']])"
   ]
  },
  {
   "cell_type": "code",
   "execution_count": 11,
   "metadata": {},
   "outputs": [
    {
     "data": {
      "text/plain": [
       "array([[ 37.57616  , 126.9728657],\n",
       "       [ 37.57616  , 126.9728657],\n",
       "       [ 37.5785599, 126.9719683],\n",
       "       ...,\n",
       "       [ 37.5550645, 127.1516047],\n",
       "       [ 37.5463255, 127.1714618],\n",
       "       [ 37.5525648, 127.172524 ]])"
      ]
     },
     "execution_count": 11,
     "metadata": {},
     "output_type": "execute_result"
    }
   ],
   "source": [
    "trashbin_coords"
   ]
  },
  {
   "cell_type": "code",
   "execution_count": 13,
   "metadata": {},
   "outputs": [
    {
     "name": "stdout",
     "output_type": "stream",
     "text": [
      "          cafe_nm  trashbins_in_range\n",
      "0             카페숲                   0\n",
      "1         매머드커피외대                   1\n",
      "2            포르마레                   0\n",
      "3           카페브릿지                   2\n",
      "4      더웨이유통할리스커피                   7\n",
      "...           ...                 ...\n",
      "21320   빽다방빨래골입구점                   1\n",
      "21321         청23                   5\n",
      "21322        피트커피                   0\n",
      "21323    빽다방동여의도점                   4\n",
      "21324       보광동커피                   2\n",
      "\n",
      "[21325 rows x 2 columns]\n"
     ]
    },
    {
     "name": "stderr",
     "output_type": "stream",
     "text": [
      "/var/folders/xx/z7zmyqq92gs28yp3ngzz0z4h0000gn/T/ipykernel_33599/600496322.py:40: SettingWithCopyWarning: \n",
      "A value is trying to be set on a copy of a slice from a DataFrame.\n",
      "Try using .loc[row_indexer,col_indexer] = value instead\n",
      "\n",
      "See the caveats in the documentation: https://pandas.pydata.org/pandas-docs/stable/user_guide/indexing.html#returning-a-view-versus-a-copy\n",
      "  datanew['trashbins_in_range'] = trashbin_count\n"
     ]
    }
   ],
   "source": [
    "def count_trashbins_near_cafes(cafe_coords, trashbin_coords, radius=300):\n",
    "    \"\"\"\n",
    "    각 카페 근방 300m 내에 있는 쓰레기통의 개수를 구합니다.\n",
    "    \n",
    "    Parameters:\n",
    "    cafe_coords (numpy array): shape (n_cafes, 2), 카페 좌표 데이터\n",
    "    trashbin_coords (numpy array): shape (n_trashbins, 2), 쓰레기통 좌표 데이터\n",
    "    radius (float): 탐색 반경 (단위: m), 기본값 300m\n",
    "    \n",
    "    Returns:\n",
    "    numpy array: 각 카페 근방의 쓰레기통 개수 (n_cafes,)\n",
    "    \"\"\"\n",
    "    # 쓰레기통 좌표에 대한 KDTree 생성\n",
    "    trashbin_tree = KDTree(trashbin_coords)\n",
    "    \n",
    "    # 각 카페에 대해 반경 내 쓰레기통 개수를 저장할 리스트\n",
    "    trashbin_count = []\n",
    "    \n",
    "    # 각 카페 좌표에 대해 300m 반경 내의 쓰레기통 개수를 계산\n",
    "    for cafe in cafe_coords:\n",
    "        # KDTree에서 근사 거리로 후보 찾기 (약 300m 반경으로 검색)\n",
    "        candidate_indices = trashbin_tree.query_ball_point(cafe, r=0.05)  # 0.003도 근사치로 검색\n",
    "        \n",
    "        # 후보 중 haversine 거리를 다시 계산하여 300m 내 쓰레기통 필터링\n",
    "        count = 0\n",
    "        for idx in candidate_indices:\n",
    "            trashbin = trashbin_coords[idx]\n",
    "            distance = haversine(cafe, trashbin, unit=Unit.METERS)  # haversine으로 정확한 거리 계산\n",
    "            if distance <= radius:  # 300m 내 쓰레기통만 카운트\n",
    "                count += 1\n",
    "        \n",
    "        trashbin_count.append(count)\n",
    "    \n",
    "    return np.array(trashbin_count)\n",
    "\n",
    "# 300m 내 쓰레기통 개수 계산\n",
    "trashbin_count = count_trashbins_near_cafes(cafe_coords, trashbin_coords, radius=300)\n",
    "\n",
    "# 결과를 데이터프레임에 추가\n",
    "datanew['trashbins_in_range'] = trashbin_count\n",
    "\n",
    "# 결과 출력\n",
    "print(datanew[['cafe_nm', 'trashbins_in_range']])"
   ]
  },
  {
   "cell_type": "code",
   "execution_count": 14,
   "metadata": {},
   "outputs": [],
   "source": [
    "datanew.to_csv('/Users/hayoun/Desktop/DAB/data/datanew.csv')"
   ]
  },
  {
   "cell_type": "code",
   "execution_count": null,
   "metadata": {},
   "outputs": [],
   "source": []
  }
 ],
 "metadata": {
  "kernelspec": {
   "display_name": "testenv",
   "language": "python",
   "name": "python3"
  },
  "language_info": {
   "codemirror_mode": {
    "name": "ipython",
    "version": 3
   },
   "file_extension": ".py",
   "mimetype": "text/x-python",
   "name": "python",
   "nbconvert_exporter": "python",
   "pygments_lexer": "ipython3",
   "version": "3.12.6"
  }
 },
 "nbformat": 4,
 "nbformat_minor": 2
}
